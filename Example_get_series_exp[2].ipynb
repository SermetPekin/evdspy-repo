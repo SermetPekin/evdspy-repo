{
 "cells": [
  {
   "cell_type": "markdown",
   "id": "5f80ab66-f585-47c3-b2d6-e82339232524",
   "metadata": {},
   "source": [
    "# Example .env file content [it may require restart the Kernel after saving the file ]\n",
    "``` bash \n",
    "    EVDS_API_KEY=AxByCzDsFoGmHeIgJaKrLbMaNgOe\n",
    "    \n",
    "    # while working behind proxy \n",
    "    \n",
    "    http_proxy=http://proxy.example.com:80\n",
    "    https_proxy=http://proxy.example.com:80\n",
    "```"
   ]
  },
  {
   "cell_type": "code",
   "execution_count": 1,
   "id": "4d1d0463-6413-43cf-a785-5b5e44bc6a35",
   "metadata": {},
   "outputs": [
    {
     "name": "stdout",
     "output_type": "stream",
     "text": [
      "Requesting... will be running now...\n",
      "   TP_DK_USD_A  TP_DK_EUR_A  TP_DK_CHF_A  TP_DK_GBP_A  TP_DK_JPY_A       Tarih\n",
      "0          NaN          NaN          NaN          NaN          NaN  01-01-2017\n",
      "1       3.5192       3.7099       3.4454       4.3189       3.0025  02-01-2017\n",
      "2       3.5338       3.7086       3.4522       4.3488       3.0065  03-01-2017\n",
      "3       3.5737       3.7278       3.4744       4.3840       3.0220  04-01-2017\n",
      "4       3.5764       3.7291       3.4751       4.3794       3.0292  05-01-2017\n"
     ]
    }
   ],
   "source": [
    "from evdspy import get_series , get_series_exp \n",
    "index = \"\"\"\n",
    "TP.DK.USD.A\n",
    "TP.DK.EUR.A\n",
    "TP.DK.CHF.A\n",
    "TP.DK.GBP.A\n",
    "TP.DK.JPY.A\n",
    "\n",
    "\n",
    "\"\"\"\n",
    "df = get_series(index, start_date=\"01-01-2017\", end_date=\"31-12-2017\" )\n",
    "print(df.head())\n"
   ]
  },
  {
   "cell_type": "code",
   "execution_count": 3,
   "id": "d45692f1-8b16-46d4-bbbf-18f2cbf04ce3",
   "metadata": {},
   "outputs": [
    {
     "name": "stdout",
     "output_type": "stream",
     "text": [
      "<CacheFound>\n",
      "Requesting... will be running now...\n",
      "Requesting... will be running now...\n",
      "Requesting... will be running now...\n",
      "Requesting... will be running now...\n",
      "Requesting... will be running now...\n",
      "     TP_DK_USD_A  TP_DK_EUR_A  TP_DK_CHF_A  TP_DK_GBP_A  TP_DK_JPY_A  \\\n",
      "0            NaN          NaN          NaN          NaN          NaN   \n",
      "1         3.5192       3.7099       3.4454       4.3189       3.0025   \n",
      "2         3.5338       3.7086       3.4522       4.3488       3.0065   \n",
      "3         3.5737       3.7278       3.4744       4.3840       3.0220   \n",
      "4         3.5764       3.7291       3.4751       4.3794       3.0292   \n",
      "..           ...          ...          ...          ...          ...   \n",
      "360       3.8029       4.5116       3.8330       5.0747       3.3482   \n",
      "361       3.8197       4.5385       3.8519       5.1091       3.3659   \n",
      "362       3.8104       4.5478       3.8763       5.1142       3.3694   \n",
      "363          NaN          NaN          NaN          NaN          NaN   \n",
      "364          NaN          NaN          NaN          NaN          NaN   \n",
      "\n",
      "          Tarih  \n",
      "0    01-01-2017  \n",
      "1    02-01-2017  \n",
      "2    03-01-2017  \n",
      "3    04-01-2017  \n",
      "4    05-01-2017  \n",
      "..          ...  \n",
      "360  27-12-2017  \n",
      "361  28-12-2017  \n",
      "362  29-12-2017  \n",
      "363  30-12-2017  \n",
      "364  31-12-2017  \n",
      "\n",
      "[365 rows x 6 columns]\n"
     ]
    }
   ],
   "source": [
    "from evdspy import get_series , get_series_exp \n",
    "index = \"\"\"\n",
    "TP.DK.USD.A\n",
    "TP.DK.EUR.A\n",
    "TP.DK.CHF.A\n",
    "TP.DK.GBP.A\n",
    "TP.DK.JPY.A\n",
    "\n",
    "\n",
    "\"\"\"\n",
    "result = get_series_exp(index, start_date=\"01-01-2017\", end_date=\"31-12-2017\" )\n",
    "print(result.data)"
   ]
  },
  {
   "cell_type": "code",
   "execution_count": 6,
   "id": "ab1cbb58-e489-4a49-a184-e059565ea992",
   "metadata": {},
   "outputs": [
    {
     "name": "stdout",
     "output_type": "stream",
     "text": [
      "<CacheFound>\n",
      "<CacheFound>\n",
      "<CacheFound>\n",
      "<CacheFound>\n",
      "<CacheFound>\n",
      "<CacheFound>\n",
      "     TP_DK_USD_A  TP_DK_EUR_A  TP_DK_CHF_A  TP_DK_GBP_A  TP_DK_JPY_A  \\\n",
      "0            NaN          NaN          NaN          NaN          NaN   \n",
      "1         3.5192       3.7099       3.4454       4.3189       3.0025   \n",
      "2         3.5338       3.7086       3.4522       4.3488       3.0065   \n",
      "3         3.5737       3.7278       3.4744       4.3840       3.0220   \n",
      "4         3.5764       3.7291       3.4751       4.3794       3.0292   \n",
      "..           ...          ...          ...          ...          ...   \n",
      "360       3.8029       4.5116       3.8330       5.0747       3.3482   \n",
      "361       3.8197       4.5385       3.8519       5.1091       3.3659   \n",
      "362       3.8104       4.5478       3.8763       5.1142       3.3694   \n",
      "363          NaN          NaN          NaN          NaN          NaN   \n",
      "364          NaN          NaN          NaN          NaN          NaN   \n",
      "\n",
      "          Tarih  \n",
      "0    01-01-2017  \n",
      "1    02-01-2017  \n",
      "2    03-01-2017  \n",
      "3    04-01-2017  \n",
      "4    05-01-2017  \n",
      "..          ...  \n",
      "360  27-12-2017  \n",
      "361  28-12-2017  \n",
      "362  29-12-2017  \n",
      "363  30-12-2017  \n",
      "364  31-12-2017  \n",
      "\n",
      "[365 rows x 6 columns]\n"
     ]
    }
   ],
   "source": [
    "# cache = True \n",
    "# makes it faster if you already retrieved data earlier today\n",
    "result = get_series_exp(index, cache = True  , start_date=\"01-01-2017\", end_date=\"31-12-2017\" )\n",
    "print(result.data)"
   ]
  },
  {
   "cell_type": "code",
   "execution_count": 10,
   "id": "08caf97f-b9db-4f18-bdea-71107f6052ce",
   "metadata": {},
   "outputs": [
    {
     "name": "stdout",
     "output_type": "stream",
     "text": [
      "    SERIE_CODE DATAGROUP_CODE                                   SERIE_NAME  \\\n",
      "0  TP.DK.USD.A  bie_dkdovizgn        (USD) ABD Doları (Döviz Alış) (Arşiv)   \n",
      "0  TP.DK.EUR.A  bie_dkdovizgn              (EUR) Euro (Döviz Alış) (Arşiv)   \n",
      "0  TP.DK.CHF.A  bie_dkdovizgn    (CHF) İsviçre Frangı (Döviz Alış) (Arşiv)   \n",
      "0  TP.DK.GBP.A  bie_dkdovizgn  (GBP) İngiliz Sterlini (Döviz Alış) (Arşiv)   \n",
      "0  TP.DK.JPY.A  bie_dkdovizgn    (JPY) 100 Japon Yeni (Döviz Alış) (Arşiv)   \n",
      "\n",
      "                              SERIE_NAME_ENG FREQUENCY_STR  \\\n",
      "0         (USD) US Dollar (Buying) (Archive)        GÜNLÜK   \n",
      "0              (EUR) Euro (Buying) (Archive)        GÜNLÜK   \n",
      "0       (CHF) Swiss Franc (Buying) (Archive)        GÜNLÜK   \n",
      "0    (GBP) Pound Sterling (Buying) (Archive)        GÜNLÜK   \n",
      "0  (JPY) 100 Japanese Yen (Buying) (Archive)        GÜNLÜK   \n",
      "\n",
      "  DEFAULT_AGG_METHOD_STR DEFAULT_AGG_METHOD  \\\n",
      "0               ORTALAMA                avg   \n",
      "0               ORTALAMA                avg   \n",
      "0               ORTALAMA                avg   \n",
      "0               ORTALAMA                avg   \n",
      "0               ORTALAMA                avg   \n",
      "\n",
      "                                                 TAG  \\\n",
      "0  Kurlar, Döviz, Kurları, Günlük, (TL, dönüşümü,...   \n",
      "0  Kurlar, Döviz, Kurları, Günlük, (TL, dönüşümü,...   \n",
      "0  Kurlar, Döviz, Kurları, Günlük, (TL, dönüşümü,...   \n",
      "0  Kurlar, Döviz, Kurları, Günlük, (TL, dönüşümü,...   \n",
      "0  Kurlar, Döviz, Kurları, Günlük, (TL, dönüşümü,...   \n",
      "\n",
      "                                        TAG_ENG DATASOURCE DATASOURCE_ENG  \\\n",
      "0  Exchange, rates, Daily, (Converted, to, TRY)       TCMB           CBRT   \n",
      "0  Exchange, rates, Daily, (Converted, to, TRY)       TCMB           CBRT   \n",
      "0  Exchange, rates, Daily, (Converted, to, TRY)       TCMB           CBRT   \n",
      "0  Exchange, rates, Daily, (Converted, to, TRY)       TCMB           CBRT   \n",
      "0  Exchange, rates, Daily, (Converted, to, TRY)       TCMB           CBRT   \n",
      "\n",
      "  METADATA_LINK METADATA_LINK_ENG REV_POL_LINK REV_POL_LINK_ENG APP_CHA_LINK  \\\n",
      "0                                                                              \n",
      "0                                                                              \n",
      "0                                                                              \n",
      "0                                                                              \n",
      "0                                                                              \n",
      "\n",
      "  APP_CHA_LINK_ENG  START_DATE    END_DATE  \n",
      "0                   02-01-1950  05-08-2024  \n",
      "0                   04-01-1999  05-08-2024  \n",
      "0                   02-01-1950  05-08-2024  \n",
      "0                   02-01-1950  05-08-2024  \n",
      "0                   27-02-1981  05-08-2024  \n"
     ]
    }
   ],
   "source": [
    "print(result.metadata)"
   ]
  },
  {
   "cell_type": "code",
   "execution_count": 11,
   "id": "d3507317-8c47-4682-81eb-46528eb82b6f",
   "metadata": {},
   "outputs": [
    {
     "name": "stdout",
     "output_type": "stream",
     "text": [
      "<CacheFound>\n",
      "<CacheFound>\n",
      "<CacheFound>\n",
      "<CacheFound>\n",
      "<CacheFound>\n",
      "<CacheFound>\n",
      "    TP_DK_USD_A  TP_DK_EUR_A  TP_DK_CHF_A  TP_DK_GBP_A  TP_DK_JPY_A    Tarih\n",
      "0      3.734886     3.965486     3.690477     4.594595     3.235277   2017-1\n",
      "1      3.672360     3.910990     3.660315     4.579265     3.239105   2017-2\n",
      "2      3.665943     3.915774     3.648535     4.514430     3.236313   2017-3\n",
      "3      3.653835     3.910100     3.640445     4.597330     3.309875   2017-4\n",
      "4      3.563862     3.932386     3.599729     4.598748     3.165557   2017-5\n",
      "5      3.518990     3.948660     3.623405     4.494780     3.169235   2017-6\n",
      "6      3.559867     4.091424     3.699062     4.613981     3.154957   2017-7\n",
      "7      3.512477     4.143618     3.628141     4.551155     3.189423   2017-8\n",
      "8      3.468047     4.137695     3.598274     4.612005     3.128484   2017-9\n",
      "9      3.662259     4.308291     3.726286     4.828673     3.235891  2017-10\n",
      "10     3.879050     4.549627     3.900277     5.116373     3.428600  2017-11\n",
      "11     3.847705     4.552519     3.885638     5.148390     3.399124  2017-12\n"
     ]
    }
   ],
   "source": [
    "result = get_series_exp(index,  aggregation='avg' , frequency = 'monthly',  start_date=\"01-01-2017\", end_date=\"31-12-2017\" )\n",
    "print(result.data)"
   ]
  },
  {
   "cell_type": "code",
   "execution_count": 12,
   "id": "a994ba1e-5bdd-4e7d-b7b2-6653aac41ccc",
   "metadata": {},
   "outputs": [
    {
     "name": "stdout",
     "output_type": "stream",
     "text": [
      "<CacheFound>\n",
      "<CacheFound>\n",
      "<CacheFound>\n",
      "<CacheFound>\n",
      "<CacheFound>\n",
      "<CacheFound>\n",
      "   TP_DK_USD_A  TP_DK_EUR_A  TP_DK_CHF_A  TP_DK_GBP_A  TP_DK_JPY_A    Tarih\n",
      "0     3.691252     3.931128     3.666355     4.561512     3.236822  2017-Q1\n",
      "1     3.578649     3.930415     3.620841     4.564195     3.214080  2017-Q2\n",
      "2     3.514913     4.124124     3.643010     4.591082     3.159074  2017-Q3\n",
      "3     3.795548     4.468878     3.836658     5.029342     3.353852  2017-Q4\n"
     ]
    }
   ],
   "source": [
    "result = get_series_exp(index,  aggregation='avg' , frequency = 'quarterly',  start_date=\"01-01-2017\", end_date=\"31-12-2017\" )\n",
    "print(result.data)"
   ]
  }
 ],
 "metadata": {
  "kernelspec": {
   "display_name": "Python 3 (ipykernel)",
   "language": "python",
   "name": "python3"
  },
  "language_info": {
   "codemirror_mode": {
    "name": "ipython",
    "version": 3
   },
   "file_extension": ".py",
   "mimetype": "text/x-python",
   "name": "python",
   "nbconvert_exporter": "python",
   "pygments_lexer": "ipython3",
   "version": "3.10.14"
  }
 },
 "nbformat": 4,
 "nbformat_minor": 5
}
